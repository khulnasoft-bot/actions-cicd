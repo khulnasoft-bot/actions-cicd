{
 "cells": [
  {
   "cell_type": "code",
   "execution_count": 10,
   "metadata": {},
   "outputs": [],
   "source": [
    "import numpy as np\n",
    "import h5py\n",
    "import json\n",
    "import os\n",
    "import pandas as pd\n",
    "\n",
    "import tensorflow as tf\n",
    "from tensorflow.keras.utils import multi_gpu_model\n",
    "from tensorflow.keras.models import Model\n",
    "from tensorflow.keras.layers import Input, GRU, Dense, Embedding, Conv1D, Bidirectional, BatchNormalization, Dot, Flatten, Concatenate\n",
    "from tensorflow.keras.optimizers import Adam\n",
    "from tensorflow.keras.callbacks import CSVLogger, ModelCheckpoint\n",
    "import wandb\n",
    "from wandb.keras import WandbCallback"
   ]
  },
  {
   "cell_type": "code",
   "execution_count": 2,
   "metadata": {},
   "outputs": [],
   "source": [
    "dataset = h5py.File('data/dataset.hdf5', 'r')\n",
    "with open(\"data/metadata.json\", \"r\") as f:\n",
    "    meta = json.loads(f.read())\n",
    "    \n",
    "train_body_vecs, train_title_vecs, train_labels = (dataset['bodies'], \n",
    "                                                   dataset['titles'], \n",
    "                                                   dataset['targets'])\n",
    "\n",
    "test_body_vecs, test_title_vecs, test_labels = (dataset['test_bodies'], \n",
    "                                                dataset['test_titles'], \n",
    "                                                dataset['test_targets'])\n",
    "\n",
    "assert train_body_vecs.shape[0] == train_title_vecs.shape[0] == train_labels.shape[0]\n",
    "assert test_body_vecs.shape[0] == test_title_vecs.shape[0] == test_labels.shape[0]"
   ]
  },
  {
   "cell_type": "code",
   "execution_count": 3,
   "metadata": {},
   "outputs": [],
   "source": [
    "input_dir = \"data/\"\n",
    "out_dir = \"output/\""
   ]
  },
  {
   "cell_type": "code",
   "execution_count": 4,
   "metadata": {},
   "outputs": [],
   "source": [
    "body_emb_size = 50\n",
    "title_emb_size = 50\n",
    "batch_size = 900\n",
    "epochs = 4\n",
    "\n",
    "body_input = Input(shape=(meta['issue_body_doc_length'],), name='Body-Input')\n",
    "title_input = Input(shape=(meta['issue_title_doc_length'],), name='Title-Input')\n",
    "\n",
    "body = Embedding(meta['body_vocab_size'], body_emb_size, name='Body-Embedding')(body_input)\n",
    "title = Embedding(meta['title_vocab_size'], title_emb_size, name='Title-Embedding')(title_input)\n",
    "\n",
    "body = BatchNormalization()(body)\n",
    "body = GRU(100, name='Body-Encoder')(body)\n",
    "\n",
    "title = BatchNormalization()(title)\n",
    "title = GRU(75, name='Title-Encoder')(title)\n",
    "\n",
    "x = Concatenate(name='Concat')([body, title])\n",
    "x = BatchNormalization()(x)\n",
    "out = Dense(meta['num_classes'], activation='softmax')(x)\n",
    "\n",
    "model = Model([body_input, title_input], out)\n",
    "\n",
    "model.compile(optimizer=Adam(lr=0.001), \n",
    "              loss='sparse_categorical_crossentropy', \n",
    "              metrics=['accuracy'])\n",
    "\n",
    "script_name_base = 'Issue_Labeler'\n",
    "csv_logger = CSVLogger(out_dir + '{:}.log'.format(script_name_base))\n",
    "model_checkpoint = ModelCheckpoint(out_dir + '{:}.epoch{{epoch:02d}}-val{{val_loss:.5f}}.hdf5'.format(script_name_base),\n",
    "                                   save_best_only=True)\n"
   ]
  },
  {
   "cell_type": "code",
   "execution_count": 6,
   "metadata": {},
   "outputs": [
    {
     "name": "stdout",
     "output_type": "stream",
     "text": [
      "Train on 10 samples, validate on 10 samples\n",
      "Epoch 1/4\n",
      "10/10 [==============================] - 5s 479ms/sample - loss: 1.4380 - accuracy: 0.4000 - val_loss: 1.0960 - val_accuracy: 0.3000\n",
      "Epoch 2/4\n",
      "10/10 [==============================] - 0s 13ms/sample - loss: 0.6640 - accuracy: 0.8000 - val_loss: 1.0939 - val_accuracy: 0.3000\n",
      "Epoch 3/4\n",
      "10/10 [==============================] - 0s 11ms/sample - loss: 0.3354 - accuracy: 0.9000 - val_loss: 1.0917 - val_accuracy: 0.4000\n",
      "Epoch 4/4\n",
      "10/10 [==============================] - 0s 11ms/sample - loss: 0.1971 - accuracy: 1.0000 - val_loss: 1.0897 - val_accuracy: 0.4000\n"
     ]
    }
   ],
   "source": [
    "history = model.fit(x=[train_body_vecs[:10, ], train_title_vecs[:10, ]], \n",
    "                    y=train_labels[:10, ],\n",
    "                    batch_size=batch_size,\n",
    "                    epochs=epochs,\n",
    "                    validation_data=[(test_body_vecs[:10, ], test_title_vecs[:10, ]), test_labels[:10, ]], \n",
    "                    callbacks=[csv_logger, model_checkpoint])"
   ]
  },
  {
   "cell_type": "code",
   "execution_count": 15,
   "metadata": {},
   "outputs": [
    {
     "data": {
      "text/plain": [
       "0.30000001192092896"
      ]
     },
     "execution_count": 15,
     "metadata": {},
     "output_type": "execute_result"
    }
   ],
   "source": [
    "pd.DataFrame(history.history).val_loss.min()\n"
   ]
  },
  {
   "cell_type": "code",
   "execution_count": 16,
   "metadata": {},
   "outputs": [
    {
     "data": {
      "text/plain": [
       "0.30000001192092896"
      ]
     },
     "execution_count": 16,
     "metadata": {},
     "output_type": "execute_result"
    }
   ],
   "source": [
    "pd.DataFrame(history.history).val_accuracy.min()"
   ]
  },
  {
   "cell_type": "code",
   "execution_count": null,
   "metadata": {},
   "outputs": [],
   "source": []
  }
 ],
 "metadata": {
  "kernelspec": {
   "display_name": "actions-cicd",
   "language": "python",
   "name": "actions-cicd"
  },
  "language_info": {
   "codemirror_mode": {
    "name": "ipython",
    "version": 3
   },
   "file_extension": ".py",
   "mimetype": "text/x-python",
   "name": "python",
   "nbconvert_exporter": "python",
   "pygments_lexer": "ipython3",
   "version": "3.7.4"
  }
 },
 "nbformat": 4,
 "nbformat_minor": 2
}
