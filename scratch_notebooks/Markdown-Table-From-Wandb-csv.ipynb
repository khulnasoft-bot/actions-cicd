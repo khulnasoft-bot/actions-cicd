{
 "cells": [
  {
   "cell_type": "code",
   "execution_count": 1,
   "metadata": {},
   "outputs": [
    {
     "name": "stdout",
     "output_type": "stream",
     "text": [
      "Requirement already satisfied: tabulate in /Users/khulnasoft/.local/share/virtualenvs/actions-cicd-nfwfOiHd/lib/python3.7/site-packages (0.8.5)\r\n"
     ]
    }
   ],
   "source": [
    "! pip install tabulate"
   ]
  },
  {
   "cell_type": "code",
   "execution_count": 61,
   "metadata": {},
   "outputs": [],
   "source": [
    "import pandas as pd\n",
    "from tabulate import tabulate"
   ]
  },
  {
   "cell_type": "code",
   "execution_count": 77,
   "metadata": {},
   "outputs": [],
   "source": [
    "df = pd.read_csv('../tests/wandb_report.csv')\n",
    "entity_name = df['run.entity'].iloc[0]\n",
    "proj_name = df['run.project'].iloc[0]\n",
    "proj_url = f\"https://app.wandb.ai/{entity_name}/{proj_name}\""
   ]
  },
  {
   "cell_type": "code",
   "execution_count": 94,
   "metadata": {},
   "outputs": [],
   "source": [
    "def reformat_df(df):\n",
    "    # add links to run id\n",
    "    df['Run ID'] = df.apply(lambda x: \"[\"+x['run.id']+\"](\"+x['run.url'] +\")\", axis=1)\n",
    "    # select columns\n",
    "    clean_df = df[['__eval.category', 'Run ID', 'github_sha', 'loss', 'val_loss', 'accuracy', 'val_accuracy', '_runtime']].round(3)\n",
    "    # rename columns\n",
    "    clean_df.columns=['Category', 'Run ID', 'SHA', 'Train Loss', 'Val Loss', 'Acc', 'Val Acc', 'Runtime']\n",
    "    # emphasize candidate runs\n",
    "    clean_df.loc[clean_df.Category == 'candidate'] = clean_df[clean_df.Category == 'candidate'].apply(lambda x: ['**'+str(x)+'**' for x in x.values])\n",
    "    return clean_df\n",
    "    "
   ]
  },
  {
   "cell_type": "code",
   "execution_count": 95,
   "metadata": {},
   "outputs": [],
   "source": [
    "clean_df = reformat_df(df)\n",
    "table = tabulate(clean_df, tablefmt=\"github\", headers=\"keys\", showindex=False)"
   ]
  },
  {
   "cell_type": "code",
   "execution_count": 97,
   "metadata": {},
   "outputs": [],
   "source": [
    "message = f\"### Model Evaluation Results\\n\\n{table}\\n\\nResults queried from W&B project [{entity_name}/{proj_name}]({proj_url})\""
   ]
  },
  {
   "cell_type": "code",
   "execution_count": 98,
   "metadata": {},
   "outputs": [
    {
     "name": "stdout",
     "output_type": "stream",
     "text": [
      "### Model Evaluation Results\n",
      "\n",
      "| Category      | Run ID                                                                         | SHA                                          | Train Loss   | Val Loss   | Acc       | Val Acc   | Runtime    |\n",
      "|---------------|--------------------------------------------------------------------------------|----------------------------------------------|--------------|------------|-----------|-----------|------------|\n",
      "| **candidate** | **[pklbaekn](https://app.wandb.ai/github/predict-issue-labels/runs/pklbaekn)** | **0c8524ebb794c907446fc97a5fd18f5e4837e242** | **0.396**    | **1.053**  | **0.985** | **0.875** | **11.546** |\n",
      "| **candidate** | **[oammgbet](https://app.wandb.ai/github/predict-issue-labels/runs/oammgbet)** | **0c8524ebb794c907446fc97a5fd18f5e4837e242** | **0.445**    | **1.08**   | **0.925** | **0.625** | **11.35**  |\n",
      "| **candidate** | **[0pr9gyre](https://app.wandb.ai/github/predict-issue-labels/runs/0pr9gyre)** | **0c8524ebb794c907446fc97a5fd18f5e4837e242** | **0.568**    | **1.072**  | **0.836** | **0.75**  | **11.276** |\n",
      "| **candidate** | **[nxulkhhg](https://app.wandb.ai/github/predict-issue-labels/runs/nxulkhhg)** | **0c8524ebb794c907446fc97a5fd18f5e4837e242** | **0.455**    | **1.077**  | **0.925** | **0.75**  | **11.022** |\n",
      "| **candidate** | **[54o5cgmz](https://app.wandb.ai/github/predict-issue-labels/runs/54o5cgmz)** | **0c8524ebb794c907446fc97a5fd18f5e4837e242** | **0.498**    | **1.074**  | **0.955** | **0.75**  | **10.94**  |\n",
      "| **candidate** | **[32o75ogm](https://app.wandb.ai/github/predict-issue-labels/runs/32o75ogm)** | **0c8524ebb794c907446fc97a5fd18f5e4837e242** | **0.421**    | **1.056**  | **0.925** | **0.75**  | **10.993** |\n",
      "| **candidate** | **[82mxswq6](https://app.wandb.ai/github/predict-issue-labels/runs/82mxswq6)** | **0c8524ebb794c907446fc97a5fd18f5e4837e242** | **0.492**    | **1.059**  | **0.94**  | **0.75**  | **11.098** |\n",
      "| **candidate** | **[21kct1oe](https://app.wandb.ai/github/predict-issue-labels/runs/21kct1oe)** | **0c8524ebb794c907446fc97a5fd18f5e4837e242** | **0.43**     | **1.072**  | **0.97**  | **0.625** | **11.042** |\n",
      "| **candidate** | **[yh8uj6px](https://app.wandb.ai/github/predict-issue-labels/runs/yh8uj6px)** | **0c8524ebb794c907446fc97a5fd18f5e4837e242** | **0.483**    | **1.085**  | **0.925** | **0.75**  | **10.837** |\n",
      "| **candidate** | **[rvqjs2pm](https://app.wandb.ai/github/predict-issue-labels/runs/rvqjs2pm)** | **0c8524ebb794c907446fc97a5fd18f5e4837e242** | **0.455**    | **1.081**  | **0.925** | **0.5**   | **11.033** |\n",
      "| **candidate** | **[ycpkaxal](https://app.wandb.ai/github/predict-issue-labels/runs/ycpkaxal)** | **0c8524ebb794c907446fc97a5fd18f5e4837e242** | **0.422**    | **1.06**   | **0.91**  | **0.75**  | **11.405** |\n",
      "| baseline      | [pa71ou0k](https://app.wandb.ai/github/predict-issue-labels/runs/pa71ou0k)     | ef14a959595495948851f24c37de288a0879b05f     | 0.446        | 1.069      | 0.94      | 0.75      | 10.994     |\n",
      "| baseline      | [7393870m](https://app.wandb.ai/github/predict-issue-labels/runs/7393870m)     | 61dc4515ad77e4d779fd178c0465ab272b9c7dc9     | 0.471        | 1.04       | 0.94      | 1.0       | 11.143     |\n",
      "\n",
      "Results queried from W&B project [github/predict-issue-labels](https://app.wandb.ai/github/predict-issue-labels)\n"
     ]
    }
   ],
   "source": [
    "print(message)"
   ]
  },
  {
   "cell_type": "markdown",
   "metadata": {},
   "source": [
    "#### Notes on making issue comments\n",
    "\n",
    "```bash\n",
    "## Set Vars\n",
    "URI=https://api.github.com\n",
    "API_VERSION=v3\n",
    "API_HEADER=\"Accept: application/vnd.github.${API_VERSION}+json\"\n",
    "AUTH_HEADER=\"Authorization: token ${GITHUB_TOKEN}\"\n",
    "\n",
    "# Create a comment with APIv3 # POST /repos/:owner/:repo/issues/:issue_number/comments\n",
    "curl -XPOST -sSL \\\n",
    "    -d \"{\\\"body\\\": \\\"$MESSAGE\\\"}\" \\\n",
    "    -H \"${AUTH_HEADER}\" \\\n",
    "    -H \"${API_HEADER}\" \\\n",
    "    \"${URI}/repos/${GITHUB_REPOSITORY}/issues/${ISSUE_NUMBER}/comments\"\n",
    "```"
   ]
  },
  {
   "cell_type": "code",
   "execution_count": null,
   "metadata": {},
   "outputs": [],
   "source": [
    "headers = {'Accept': 'application/vnd.github.v3+json'\n",
    "           'Authorization': f'token {token}'}\n",
    "\n",
    "url = f\"https://api.github.com/repos/{nwo}/issues/{pr_num}/comments\""
   ]
  },
  {
   "cell_type": "markdown",
   "metadata": {},
   "source": [
    "### Remove Issue Label"
   ]
  },
  {
   "cell_type": "code",
   "execution_count": 106,
   "metadata": {},
   "outputs": [],
   "source": [
    "token = 'v1.bb846e58ef8a00fe8bb54607ffe07fc6be4769ad'\n",
    "nwo='khulnasoft-bot/actions-cicd'\n",
    "pr_num=15"
   ]
  },
  {
   "cell_type": "code",
   "execution_count": 110,
   "metadata": {},
   "outputs": [],
   "source": [
    "headers = {'Accept': 'application/vnd.github.symmetra-preview+json',\n",
    "           'Authorization': f'token {token}'}\n",
    "url = f\"https://api.github.com/repos/{nwo}/issues/{pr_num}/labels/Full%20Test%20Pending\""
   ]
  },
  {
   "cell_type": "code",
   "execution_count": 111,
   "metadata": {},
   "outputs": [],
   "source": [
    "result = requests.delete(url=url, headers=headers)"
   ]
  },
  {
   "cell_type": "markdown",
   "metadata": {},
   "source": [
    "### Add Isssue Label"
   ]
  },
  {
   "cell_type": "code",
   "execution_count": 122,
   "metadata": {},
   "outputs": [],
   "source": [
    "url = f\"https://api.github.com/repos/{nwo}/issues/{pr_num}/labels\"\n",
    "data = {\"labels\": [\"Full Test Complete\"]}\n",
    "result = requests.post(url=url, headers=headers, json=data)"
   ]
  },
  {
   "cell_type": "code",
   "execution_count": 123,
   "metadata": {},
   "outputs": [
    {
     "name": "stdout",
     "output_type": "stream",
     "text": [
      "b'[{\"id\":1594650928,\"node_id\":\"MDU6TGFiZWwxNTk0NjUwOTI4\",\"url\":\"https://api.github.com/repos/khulnasoft-bot/actions-cicd/labels/Full%20Test%20Complete\",\"name\":\"Full Test Complete\",\"color\":\"ededed\",\"default\":false,\"description\":null}]'\n"
     ]
    }
   ],
   "source": [
    "print(result.content)"
   ]
  },
  {
   "cell_type": "code",
   "execution_count": null,
   "metadata": {},
   "outputs": [],
   "source": []
  }
 ],
 "metadata": {
  "kernelspec": {
   "display_name": "actions-cicd",
   "language": "python",
   "name": "actions-cicd"
  },
  "language_info": {
   "codemirror_mode": {
    "name": "ipython",
    "version": 3
   },
   "file_extension": ".py",
   "mimetype": "text/x-python",
   "name": "python",
   "nbconvert_exporter": "python",
   "pygments_lexer": "ipython3",
   "version": "3.7.4"
  }
 },
 "nbformat": 4,
 "nbformat_minor": 2
}
