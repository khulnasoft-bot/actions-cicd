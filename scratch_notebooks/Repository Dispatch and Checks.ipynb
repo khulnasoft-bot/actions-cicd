{
 "cells": [
  {
   "cell_type": "markdown",
   "metadata": {},
   "source": [
    "This notebook contains notes on repository dispatch and the checks api.  The motivation is to use these APIs to facilitate MLOps."
   ]
  },
  {
   "cell_type": "markdown",
   "metadata": {},
   "source": [
    "# Repository Dispatch"
   ]
  },
  {
   "cell_type": "markdown",
   "metadata": {},
   "source": [
    "Shows how to create a [repository dispatch event](https://developer.github.com/v3/repos/#create-a-repository-dispatch-event)\n",
    "\n",
    "Notes how to test from the command line\n",
    "\n",
    "```bash\n",
    "curl --request POST \\\n",
    "  --url https://api.github.com/repos/khulnasoft-bot/actions-ml-ci-cd/dispatches \\\n",
    "  --header 'accept: application/vnd.github.everest-preview+json' \\\n",
    "  --header 'authorization: Bearer {your_personal_access_token_here}' \\\n",
    "  --header 'content-type: application/json' \\\n",
    "  --data '{\n",
    "    \"event_type\": \"update deployment\"\n",
    "}'\n",
    "```"
   ]
  },
  {
   "cell_type": "code",
   "execution_count": 125,
   "metadata": {},
   "outputs": [],
   "source": [
    "import os\n",
    "import requests"
   ]
  },
  {
   "cell_type": "code",
   "execution_count": 126,
   "metadata": {},
   "outputs": [],
   "source": [
    "personal_access_token = os.getenv('PAT')"
   ]
  },
  {
   "cell_type": "code",
   "execution_count": 127,
   "metadata": {},
   "outputs": [],
   "source": [
    "owner='khulnasoft-bot'\n",
    "repo='actions-cicd'"
   ]
  },
  {
   "cell_type": "code",
   "execution_count": 53,
   "metadata": {},
   "outputs": [],
   "source": [
    "url = f'https://api.github.com/repos/{owner}/{repo}/dispatches'\n",
    "headers = {'authorization': f'token {personal_access_token}',\n",
    "           'accept': 'application/vnd.github.everest-preview+json'}\n",
    "\n",
    "data = {'event_type': 'hameltestpayload'}"
   ]
  },
  {
   "cell_type": "code",
   "execution_count": 54,
   "metadata": {},
   "outputs": [],
   "source": [
    "response = requests.post(url=url, headers=headers, json=data)"
   ]
  },
  {
   "cell_type": "code",
   "execution_count": 55,
   "metadata": {},
   "outputs": [],
   "source": [
    "assert response.status_code == 204 # per documentation you should get Status: 204 No Content Returned"
   ]
  },
  {
   "cell_type": "markdown",
   "metadata": {},
   "source": [
    "## Payload Recieved\n",
    "\n",
    "```json\n",
    "\n",
    "{\n",
    "  \"action\": \"hameltestpayload\",\n",
    "  \"branch\": \"master\",\n",
    "  \"client_payload\": null,\n",
    "  \"organization\": {\n",
    "    \"avatar_url\": \"https://avatars2.githubusercontent.com/u/49846054?v=4\",\n",
    "    \"description\": \"GitHub Apps Powered By Machine Learning\",\n",
    "    \"events_url\": \"https://api.github.com/orgs/khulnasoft-bot/events\",\n",
    "    \"hooks_url\": \"https://api.github.com/orgs/khulnasoft-bot/hooks\",\n",
    "    \"id\": 49846054,\n",
    "    \"issues_url\": \"https://api.github.com/orgs/khulnasoft-bot/issues\",\n",
    "    \"login\": \"khulnasoft-bot\",\n",
    "    \"members_url\": \"https://api.github.com/orgs/khulnasoft-bot/members{/member}\",\n",
    "    \"node_id\": \"MDEyOk9yZ2FuaXphdGlvbjQ5ODQ2MDU0\",\n",
    "    \"public_members_url\": \"https://api.github.com/orgs/khulnasoft-bot/public_members{/member}\",\n",
    "    \"repos_url\": \"https://api.github.com/orgs/khulnasoft-bot/repos\",\n",
    "    \"url\": \"https://api.github.com/orgs/khulnasoft-bot\"\n",
    "  },\n",
    "  \"repository\": {\n",
    "    \"archive_url\": \"https://api.github.com/repos/khulnasoft-bot/actions-cicd/{archive_format}{/ref}\",\n",
    "    \"archived\": false,\n",
    "    \"assignees_url\": \"https://api.github.com/repos/khulnasoft-bot/actions-cicd/assignees{/user}\",\n",
    "    \"blobs_url\": \"https://api.github.com/repos/khulnasoft-bot/actions-cicd/git/blobs{/sha}\",\n",
    "    \"branches_url\": \"https://api.github.com/repos/khulnasoft-bot/actions-cicd/branches{/branch}\",\n",
    "    \"clone_url\": \"https://github.com/khulnasoft-bot/actions-cicd.git\",\n",
    "    \"collaborators_url\": \"https://api.github.com/repos/khulnasoft-bot/actions-cicd/collaborators{/collaborator}\",\n",
    "    \"comments_url\": \"https://api.github.com/repos/khulnasoft-bot/actions-cicd/comments{/number}\",\n",
    "    \"commits_url\": \"https://api.github.com/repos/khulnasoft-bot/actions-cicd/commits{/sha}\",\n",
    "    \"compare_url\": \"https://api.github.com/repos/khulnasoft-bot/actions-cicd/compare/{base}...{head}\",\n",
    "    \"contents_url\": \"https://api.github.com/repos/khulnasoft-bot/actions-cicd/contents/{+path}\",\n",
    "    \"contributors_url\": \"https://api.github.com/repos/khulnasoft-bot/actions-cicd/contributors\",\n",
    "    \"created_at\": \"2019-09-10T20:01:38Z\",\n",
    "    \"default_branch\": \"master\",\n",
    "    \"deployments_url\": \"https://api.github.com/repos/khulnasoft-bot/actions-cicd/deployments\",\n",
    "    \"description\": \"Example of  CI/CD for Machine Learning Workflows with GitHub Actions\",\n",
    "    \"disabled\": false,\n",
    "    \"downloads_url\": \"https://api.github.com/repos/khulnasoft-bot/actions-cicd/downloads\",\n",
    "    \"events_url\": \"https://api.github.com/repos/khulnasoft-bot/actions-cicd/events\",\n",
    "    \"fork\": false,\n",
    "    \"forks\": 0,\n",
    "    \"forks_count\": 0,\n",
    "    \"forks_url\": \"https://api.github.com/repos/khulnasoft-bot/actions-cicd/forks\",\n",
    "    \"full_name\": \"khulnasoft-bot/actions-cicd\",\n",
    "    \"git_commits_url\": \"https://api.github.com/repos/khulnasoft-bot/actions-cicd/git/commits{/sha}\",\n",
    "    \"git_refs_url\": \"https://api.github.com/repos/khulnasoft-bot/actions-cicd/git/refs{/sha}\",\n",
    "    \"git_tags_url\": \"https://api.github.com/repos/khulnasoft-bot/actions-cicd/git/tags{/sha}\",\n",
    "    \"git_url\": \"git://github.com/khulnasoft-bot/actions-cicd.git\",\n",
    "    \"has_downloads\": true,\n",
    "    \"has_issues\": true,\n",
    "    \"has_pages\": false,\n",
    "    \"has_projects\": true,\n",
    "    \"has_wiki\": true,\n",
    "    \"homepage\": \"\",\n",
    "    \"hooks_url\": \"https://api.github.com/repos/khulnasoft-bot/actions-cicd/hooks\",\n",
    "    \"html_url\": \"https://github.com/khulnasoft-bot/actions-cicd\",\n",
    "    \"id\": 207652168,\n",
    "    \"issue_comment_url\": \"https://api.github.com/repos/khulnasoft-bot/actions-cicd/issues/comments{/number}\",\n",
    "    \"issue_events_url\": \"https://api.github.com/repos/khulnasoft-bot/actions-cicd/issues/events{/number}\",\n",
    "    \"issues_url\": \"https://api.github.com/repos/khulnasoft-bot/actions-cicd/issues{/number}\",\n",
    "    \"keys_url\": \"https://api.github.com/repos/khulnasoft-bot/actions-cicd/keys{/key_id}\",\n",
    "    \"labels_url\": \"https://api.github.com/repos/khulnasoft-bot/actions-cicd/labels{/name}\",\n",
    "    \"language\": \"Jupyter Notebook\",\n",
    "    \"languages_url\": \"https://api.github.com/repos/khulnasoft-bot/actions-cicd/languages\",\n",
    "    \"license\": null,\n",
    "    \"merges_url\": \"https://api.github.com/repos/khulnasoft-bot/actions-cicd/merges\",\n",
    "    \"milestones_url\": \"https://api.github.com/repos/khulnasoft-bot/actions-cicd/milestones{/number}\",\n",
    "    \"mirror_url\": null,\n",
    "    \"name\": \"actions-cicd\",\n",
    "    \"node_id\": \"MDEwOlJlcG9zaXRvcnkyMDc2NTIxNjg=\",\n",
    "    \"notifications_url\": \"https://api.github.com/repos/khulnasoft-bot/actions-cicd/notifications{?since,all,participating}\",\n",
    "    \"open_issues\": 0,\n",
    "    \"open_issues_count\": 0,\n",
    "    \"owner\": {\n",
    "      \"avatar_url\": \"https://avatars2.githubusercontent.com/u/49846054?v=4\",\n",
    "      \"events_url\": \"https://api.github.com/users/khulnasoft-bot/events{/privacy}\",\n",
    "      \"followers_url\": \"https://api.github.com/users/khulnasoft-bot/followers\",\n",
    "      \"following_url\": \"https://api.github.com/users/khulnasoft-bot/following{/other_user}\",\n",
    "      \"gists_url\": \"https://api.github.com/users/khulnasoft-bot/gists{/gist_id}\",\n",
    "      \"gravatar_id\": \"\",\n",
    "      \"html_url\": \"https://github.com/khulnasoft-bot\",\n",
    "      \"id\": 49846054,\n",
    "      \"login\": \"khulnasoft-bot\",\n",
    "      \"node_id\": \"MDEyOk9yZ2FuaXphdGlvbjQ5ODQ2MDU0\",\n",
    "      \"organizations_url\": \"https://api.github.com/users/khulnasoft-bot/orgs\",\n",
    "      \"received_events_url\": \"https://api.github.com/users/khulnasoft-bot/received_events\",\n",
    "      \"repos_url\": \"https://api.github.com/users/khulnasoft-bot/repos\",\n",
    "      \"site_admin\": false,\n",
    "      \"starred_url\": \"https://api.github.com/users/khulnasoft-bot/starred{/owner}{/repo}\",\n",
    "      \"subscriptions_url\": \"https://api.github.com/users/khulnasoft-bot/subscriptions\",\n",
    "      \"type\": \"Organization\",\n",
    "      \"url\": \"https://api.github.com/users/khulnasoft-bot\"\n",
    "    },\n",
    "    \"private\": false,\n",
    "    \"pulls_url\": \"https://api.github.com/repos/khulnasoft-bot/actions-cicd/pulls{/number}\",\n",
    "    \"pushed_at\": \"2019-09-30T19:16:59Z\",\n",
    "    \"releases_url\": \"https://api.github.com/repos/khulnasoft-bot/actions-cicd/releases{/id}\",\n",
    "    \"size\": 49,\n",
    "    \"ssh_url\": \"git@github.com:khulnasoft-bot/actions-cicd.git\",\n",
    "    \"stargazers_count\": 2,\n",
    "    \"stargazers_url\": \"https://api.github.com/repos/khulnasoft-bot/actions-cicd/stargazers\",\n",
    "    \"statuses_url\": \"https://api.github.com/repos/khulnasoft-bot/actions-cicd/statuses/{sha}\",\n",
    "    \"subscribers_url\": \"https://api.github.com/repos/khulnasoft-bot/actions-cicd/subscribers\",\n",
    "    \"subscription_url\": \"https://api.github.com/repos/khulnasoft-bot/actions-cicd/subscription\",\n",
    "    \"svn_url\": \"https://github.com/khulnasoft-bot/actions-cicd\",\n",
    "    \"tags_url\": \"https://api.github.com/repos/khulnasoft-bot/actions-cicd/tags\",\n",
    "    \"teams_url\": \"https://api.github.com/repos/khulnasoft-bot/actions-cicd/teams\",\n",
    "    \"trees_url\": \"https://api.github.com/repos/khulnasoft-bot/actions-cicd/git/trees{/sha}\",\n",
    "    \"updated_at\": \"2019-09-30T19:17:02Z\",\n",
    "    \"url\": \"https://api.github.com/repos/khulnasoft-bot/actions-cicd\",\n",
    "    \"watchers\": 2,\n",
    "    \"watchers_count\": 2\n",
    "  },\n",
    "  \"sender\": {\n",
    "    \"avatar_url\": \"https://avatars2.githubusercontent.com/u/1483922?v=4\",\n",
    "    \"events_url\": \"https://api.github.com/users/khulnasoft-bot/events{/privacy}\",\n",
    "    \"followers_url\": \"https://api.github.com/users/khulnasoft-bot/followers\",\n",
    "    \"following_url\": \"https://api.github.com/users/khulnasoft-bot/following{/other_user}\",\n",
    "    \"gists_url\": \"https://api.github.com/users/khulnasoft-bot/gists{/gist_id}\",\n",
    "    \"gravatar_id\": \"\",\n",
    "    \"html_url\": \"https://github.com/khulnasoft-bot\",\n",
    "    \"id\": 1483922,\n",
    "    \"login\": \"khulnasoft\",\n",
    "    \"node_id\": \"MDQ6VXNlcjE0ODM5MjI=\",\n",
    "    \"organizations_url\": \"https://api.github.com/users/khulnasoft-bot/orgs\",\n",
    "    \"received_events_url\": \"https://api.github.com/users/khulnasoft-bot/received_events\",\n",
    "    \"repos_url\": \"https://api.github.com/users/khulnasoft-bot/repos\",\n",
    "    \"site_admin\": true,\n",
    "    \"starred_url\": \"https://api.github.com/users/khulnasoft-bot/starred{/owner}{/repo}\",\n",
    "    \"subscriptions_url\": \"https://api.github.com/users/khulnasoft-bot/subscriptions\",\n",
    "    \"type\": \"User\",\n",
    "    \"url\": \"https://api.github.com/users/khulnasoft-bot\"\n",
    "  }\n",
    "}\n",
    "\n",
    "```"
   ]
  },
  {
   "cell_type": "markdown",
   "metadata": {},
   "source": [
    "# Create a Check Run\n",
    "\n",
    "You probably want to do this with Actions, because otherwhise Check Runs require a GitHub App (you cannot use an OAuth App)"
   ]
  },
  {
   "cell_type": "code",
   "execution_count": 154,
   "metadata": {},
   "outputs": [],
   "source": [
    "GITHUB_ACTIONS_TOKEN = 'YOUR_TOKEN'"
   ]
  },
  {
   "cell_type": "code",
   "execution_count": 155,
   "metadata": {},
   "outputs": [],
   "source": [
    "SHA='5a6ca02107d6420c043b640179a17bbd9d74344e'"
   ]
  },
  {
   "cell_type": "code",
   "execution_count": 156,
   "metadata": {},
   "outputs": [],
   "source": [
    "url = f'https://api.github.com/repos/{owner}/{repo}/check-runs'\n",
    "headers = {'authorization': f'token {GITHUB_ACTIONS_TOKEN}',\n",
    "           'accept': 'application/vnd.github.antiope-preview+json'}\n",
    "\n",
    "data = {\n",
    "    'name': 'test-check-run-2',\n",
    "    'head_sha': f'{SHA}',\n",
    "    'status': 'in_progress',\n",
    "    'details_url': 'http://34.95.87.135/workflows',\n",
    "    'output':{\n",
    "        'title': 'A sample check run',\n",
    "        'summary': 'This check run is to make sure we understand how to start / stop a check run',\n",
    "        'text': 'this is the text of the check run.',\n",
    "        'images': [{'alt': 'sample', 'image_url': 'http://34.95.87.135/workflows', 'caption':'argo dash'}]\n",
    "    },\n",
    "}"
   ]
  },
  {
   "cell_type": "code",
   "execution_count": 157,
   "metadata": {},
   "outputs": [],
   "source": [
    "response = requests.post(url=url, headers=headers, json=data)"
   ]
  },
  {
   "cell_type": "code",
   "execution_count": 158,
   "metadata": {},
   "outputs": [
    {
     "data": {
      "text/plain": [
       "201"
      ]
     },
     "execution_count": 158,
     "metadata": {},
     "output_type": "execute_result"
    }
   ],
   "source": [
    "response.status_code"
   ]
  },
  {
   "cell_type": "markdown",
   "metadata": {},
   "source": [
    "The above code automatically created a check run on the right branch according to the `SHA`"
   ]
  },
  {
   "cell_type": "markdown",
   "metadata": {},
   "source": [
    "#### Update the text of the check run"
   ]
  },
  {
   "cell_type": "code",
   "execution_count": 86,
   "metadata": {},
   "outputs": [],
   "source": [
    "data = {\n",
    "    'name': 'test-check-run',\n",
    "    'head_sha': f'{SHA}',\n",
    "    'status': 'in_progress',\n",
    "    'details_url': 'http://34.95.87.135/workflows',\n",
    "    'output':{\n",
    "        'title': 'Running - A sample check run',\n",
    "        'summary': 'Running - This check run is to make sure we understand how to start / stop a check run',\n",
    "        'text': 'Running - this is the text of the check run.'\n",
    "    }\n",
    "}"
   ]
  },
  {
   "cell_type": "code",
   "execution_count": 87,
   "metadata": {},
   "outputs": [
    {
     "data": {
      "text/plain": [
       "<Response [201]>"
      ]
     },
     "execution_count": 87,
     "metadata": {},
     "output_type": "execute_result"
    }
   ],
   "source": [
    "response = requests.post(url=url, headers=headers, json=data)\n",
    "response"
   ]
  },
  {
   "cell_type": "markdown",
   "metadata": {},
   "source": [
    "#### Now, let's complete the check run"
   ]
  },
  {
   "cell_type": "code",
   "execution_count": 159,
   "metadata": {},
   "outputs": [],
   "source": [
    "data = {\n",
    "    'name': 'test-check-run-2',\n",
    "    'head_sha': f'{SHA}',\n",
    "    'status': 'completed',\n",
    "    'conclusion': 'success',\n",
    "    'details_url': 'http://34.95.87.135/workflows',\n",
    "        'output':{\n",
    "        'title': 'COMPLETED - A sample check run',\n",
    "        'summary': 'COMPLETED - This check run is to make sure we understand how to start / stop a check run',\n",
    "        'text': 'COMPLETED - this is the text of the check run.'\n",
    "    }\n",
    "}"
   ]
  },
  {
   "cell_type": "code",
   "execution_count": 160,
   "metadata": {},
   "outputs": [],
   "source": [
    "response = requests.post(url=url, headers=headers, json=data)"
   ]
  },
  {
   "cell_type": "code",
   "execution_count": 161,
   "metadata": {},
   "outputs": [
    {
     "data": {
      "text/plain": [
       "<Response [201]>"
      ]
     },
     "execution_count": 161,
     "metadata": {},
     "output_type": "execute_result"
    }
   ],
   "source": [
    "response"
   ]
  },
  {
   "cell_type": "markdown",
   "metadata": {},
   "source": [
    "The above code closed the check run"
   ]
  },
  {
   "cell_type": "code",
   "execution_count": null,
   "metadata": {},
   "outputs": [],
   "source": []
  }
 ],
 "metadata": {
  "kernelspec": {
   "display_name": "actions-cicd",
   "language": "python",
   "name": "actions-cicd"
  },
  "language_info": {
   "codemirror_mode": {
    "name": "ipython",
    "version": 3
   },
   "file_extension": ".py",
   "mimetype": "text/x-python",
   "name": "python",
   "nbconvert_exporter": "python",
   "pygments_lexer": "ipython3",
   "version": "3.7.4"
  }
 },
 "nbformat": 4,
 "nbformat_minor": 2
}
