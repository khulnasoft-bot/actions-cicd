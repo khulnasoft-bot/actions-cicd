{
 "cells": [
  {
   "cell_type": "markdown",
   "metadata": {},
   "source": [
    "# Notes on interfacing with wandb programatically\n",
    "\n",
    "Requires that you set the environment variable `WANDB_API_KEY`\n",
    "\n",
    "The [api docs](https://docs.wandb.com/integrations/api)"
   ]
  },
  {
   "cell_type": "code",
   "execution_count": 40,
   "metadata": {},
   "outputs": [],
   "source": [
    "import wandb\n",
    "api = wandb.Api()"
   ]
  },
  {
   "cell_type": "markdown",
   "metadata": {},
   "source": [
    "## Get all runs for a project\n",
    "\n",
    "Note you can also filter runs via the api on the server side like this, if you have lots of runs.\n",
    "\n",
    "```py\n",
    "runs=api.runs('jeffr/regression', filters={\"tags\": {\"$nin\": [\"py3\"]}})\n",
    "```"
   ]
  },
  {
   "cell_type": "code",
   "execution_count": 49,
   "metadata": {},
   "outputs": [],
   "source": [
    "runs = list(api.runs('github/issues_lang_model'))"
   ]
  },
  {
   "cell_type": "markdown",
   "metadata": {},
   "source": [
    "#### Inspect A Sample Run"
   ]
  },
  {
   "cell_type": "code",
   "execution_count": 51,
   "metadata": {},
   "outputs": [],
   "source": [
    "example = runs[0]"
   ]
  },
  {
   "cell_type": "code",
   "execution_count": 52,
   "metadata": {},
   "outputs": [
    {
     "data": {
      "text/plain": [
       "'https://app.wandb.ai/github/issues_lang_model/runs/22zkdqlr'"
      ]
     },
     "execution_count": 52,
     "metadata": {},
     "output_type": "execute_result"
    }
   ],
   "source": [
    "example.url"
   ]
  },
  {
   "cell_type": "code",
   "execution_count": 53,
   "metadata": {},
   "outputs": [
    {
     "data": {
      "text/plain": [
       "{'step': 566200,\n",
       " '_step': 5664,\n",
       " '_runtime': 383834.2533636093,\n",
       " 'val_loss': 2.8603837490081787,\n",
       " '_timestamp': 1561615388.6429014,\n",
       " 'train_loss': 3.0975191593170166,\n",
       " 'val_accuracy': 0.4610958993434906}"
      ]
     },
     "execution_count": 53,
     "metadata": {},
     "output_type": "execute_result"
    }
   ],
   "source": [
    "example.summary_metrics"
   ]
  },
  {
   "cell_type": "code",
   "execution_count": 54,
   "metadata": {},
   "outputs": [
    {
     "data": {
      "text/plain": [
       "['The-Winner', 'full-data-final']"
      ]
     },
     "execution_count": 54,
     "metadata": {},
     "output_type": "execute_result"
    }
   ],
   "source": [
    "example.tags"
   ]
  },
  {
   "cell_type": "markdown",
   "metadata": {},
   "source": [
    "#### Change The Tags For A Run"
   ]
  },
  {
   "cell_type": "code",
   "execution_count": 57,
   "metadata": {},
   "outputs": [],
   "source": [
    "example.tags = ['The-Winner', 'full-data-final', 'New Tag']"
   ]
  },
  {
   "cell_type": "code",
   "execution_count": 58,
   "metadata": {},
   "outputs": [],
   "source": [
    "example.update()"
   ]
  },
  {
   "cell_type": "markdown",
   "metadata": {},
   "source": [
    "Check the URL to see if the tag was added:"
   ]
  },
  {
   "cell_type": "code",
   "execution_count": 59,
   "metadata": {},
   "outputs": [
    {
     "name": "stdout",
     "output_type": "stream",
     "text": [
      "https://app.wandb.ai/github/issues_lang_model/runs/22zkdqlr\n"
     ]
    }
   ],
   "source": [
    "print(example.url)"
   ]
  }
 ],
 "metadata": {
  "kernelspec": {
   "display_name": "actions-cicd",
   "language": "python",
   "name": "actions-cicd"
  },
  "language_info": {
   "codemirror_mode": {
    "name": "ipython",
    "version": 3
   },
   "file_extension": ".py",
   "mimetype": "text/x-python",
   "name": "python",
   "nbconvert_exporter": "python",
   "pygments_lexer": "ipython3",
   "version": "3.7.4"
  }
 },
 "nbformat": 4,
 "nbformat_minor": 2
}
